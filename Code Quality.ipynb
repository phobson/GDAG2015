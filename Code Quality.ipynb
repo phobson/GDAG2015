{
 "cells": [
  {
   "cell_type": "code",
   "execution_count": null,
   "metadata": {
    "collapsed": false,
    "slideshow": {
     "slide_type": "skip"
    }
   },
   "outputs": [],
   "source": [
    "%matplotlib inline\n",
    "import numpy as np\n",
    "import matplotlib.pyplot as plt\n",
    "import pandas\n",
    "#import pyodbc\n",
    "from IPython.display import IFrame"
   ]
  },
  {
   "cell_type": "markdown",
   "metadata": {
    "slideshow": {
     "slide_type": "slide"
    }
   },
   "source": [
    "# Code Quality Assurance Practices"
   ]
  },
  {
   "cell_type": "markdown",
   "metadata": {
    "slideshow": {
     "slide_type": "slide"
    }
   },
   "source": [
    "## Summary\n",
    " * How do you define quality code\n",
    " * What are the common QA practices?\n",
    " * How do you conduct a peer review?\n",
    " * What kinds of tools can we use?\n",
    " * Common pitfalls"
   ]
  },
  {
   "cell_type": "markdown",
   "metadata": {
    "slideshow": {
     "slide_type": "slide"
    }
   },
   "source": [
    "## How do you define quality code?\n",
    "### Basic Tenets:\n",
    " * DRY: Don't Repeat Yourself\n",
    " * KISS: Keep it Simple, Stupid!\n",
    " * SRP: Single Responsibility Principle\n",
    " "
   ]
  },
  {
   "cell_type": "markdown",
   "metadata": {
    "slideshow": {
     "slide_type": "fragment"
    }
   },
   "source": [
    "### In practice\n",
    "* Don't reinvent the wheel\n",
    "   * But don't blindly trust other wheels!\n",
    " * Be clear:\n",
    "   * function names should mean something\n",
    "   * variable names should me something\n",
    "   * lines shouldn't be too long\n",
    "   * functions should have descriptions if sufficiently complex\n",
    " * Results: Does the code produced expected results from known input?\n",
    " * Error handling: are edge and corner cases properly handled?"
   ]
  },
  {
   "cell_type": "markdown",
   "metadata": {
    "slideshow": {
     "slide_type": "slide"
    }
   },
   "source": [
    "## Work through a basic example: retrieving values from a database \n",
    "(`import pyodbc` is implied)"
   ]
  },
  {
   "cell_type": "code",
   "execution_count": null,
   "metadata": {
    "collapsed": true,
    "slideshow": {
     "slide_type": "subslide"
    }
   },
   "outputs": [],
   "source": [
    "def db_locs():\n",
    "    ''' Gets a list of locations from the database\n",
    "    '''\n",
    "    cnn = pyodbc.connect(database='prjTEST', server='pmtester-02')\n",
    "    cur = cnn.cursor()\n",
    "    query = \"select locname from locations\"\n",
    "    cur.execute(query)\n",
    "    \n",
    "    results = [row['locname'] for row in cur]\n",
    "    cur.close()\n",
    "    cnn.close()\n",
    "    return results"
   ]
  },
  {
   "cell_type": "code",
   "execution_count": null,
   "metadata": {
    "collapsed": true,
    "slideshow": {
     "slide_type": "subslide"
    }
   },
   "outputs": [],
   "source": [
    "def db_samps():\n",
    "    ''' Gets a list of samples from the database\n",
    "    '''\n",
    "    cnn = pyodbc.connect(database='prjTEST', server='pmtester-02')\n",
    "    cur = cnn.cursor()\n",
    "    query = \"select samplename from samples\"\n",
    "    cur.execute(query)\n",
    "    \n",
    "    samples = [row['samplename'] for row in cur]\n",
    "    cur.close()\n",
    "    cnn.close()\n",
    "    return samples"
   ]
  },
  {
   "cell_type": "markdown",
   "metadata": {
    "slideshow": {
     "slide_type": "slide"
    }
   },
   "source": [
    "### What do the names mean? Are we getting or inserting?\n",
    "### Apply some DRY and clear up names"
   ]
  },
  {
   "cell_type": "code",
   "execution_count": null,
   "metadata": {
    "collapsed": true,
    "slideshow": {
     "slide_type": "subslide"
    }
   },
   "outputs": [],
   "source": [
    "def connectToDB(cmd=None):\n",
    "    cnn = pyodbc.connect(db='prjTEST', server='pmtester-02')\n",
    "    cur = cnn.cursor()\n",
    "    if cmd is not None:\n",
    "        cur.execute(cmd)\n",
    "        \n",
    "    return cnn, cur\n",
    "\n",
    "def closeConnections(cnn, cur):\n",
    "    cur.close()\n",
    "    cnn.close()\n",
    "    \n",
    "def getLocations():\n",
    "    query = \"select locname from locations\"\n",
    "    cnn, cur = connectToDB(cmd=query)\n",
    "    results = [row['locname'] for row in cur]\n",
    "    closeConnections(cnn, cur)\n",
    "    return results\n",
    "    \n",
    "def getSamples():\n",
    "    query = \"select samplename from samples\"\n",
    "    cnn, cur = connectToDB(cmd=query)\n",
    "    samples = [row['samplename'] for row in cur]\n",
    "    closeConnections(cnn, cur)\n",
    "    return samples\n",
    "    "
   ]
  },
  {
   "cell_type": "markdown",
   "metadata": {
    "slideshow": {
     "slide_type": "slide"
    }
   },
   "source": [
    "### And more DRY still..."
   ]
  },
  {
   "cell_type": "code",
   "execution_count": null,
   "metadata": {
    "collapsed": true,
    "slideshow": {
     "slide_type": "subslide"
    }
   },
   "outputs": [],
   "source": [
    "def connectToDB(cmd=None):\n",
    "    cnn = pyodbc.connect(db='prjTEST', server='pmtester-02')\n",
    "    cur = cnn.cursor()\n",
    "    if cmd is not None:\n",
    "        cur.execute(cmd)\n",
    "    return cnn, cur\n",
    "\n",
    "def closeConnections(cnn, cur):\n",
    "    cur.close()\n",
    "    cnn.close()\n",
    "\n",
    "def _get_single_col_from_table(column, table):\n",
    "    query = \"select {} from {}\".format(column, table)\n",
    "    cnn, cur = connectToDB(cmd=query)\n",
    "    values = [row[column] for row in cur]\n",
    "    closeConnections(cnn, cur)\n",
    "    return values\n",
    "\n",
    "def getLocations():\n",
    "    return _get_single_col_from_table('locname', 'locations')\n",
    "\n",
    "def getSamples():\n",
    "    return _get_single_col_from_table('samplename', 'samples')"
   ]
  },
  {
   "cell_type": "markdown",
   "metadata": {
    "slideshow": {
     "slide_type": "slide"
    }
   },
   "source": [
    "## Now use previously invented wheels"
   ]
  },
  {
   "cell_type": "code",
   "execution_count": null,
   "metadata": {
    "collapsed": false,
    "slideshow": {
     "slide_type": "fragment"
    }
   },
   "outputs": [],
   "source": [
    "import pyodbc\n",
    "import pandas\n",
    "\n",
    "def connectToDB():\n",
    "    return pyodbc.connect(db='prjTEST', server='pmtester-02')\n",
    "\n",
    "def _get_single_col_from_table(column, table):\n",
    "    query = \"select {} from {}\".format(column, table)\n",
    "    with connectToDB() as cnn:\n",
    "        values = pandas.read_sql(query, cnn)    \n",
    "    return values[column].tolist()\n",
    "\n",
    "def getLocations():\n",
    "    return _get_single_col_from_table('locname', 'locations')\n",
    "\n",
    "def getSamples():\n",
    "    return _get_single_col_from_table('samplename', 'samples')"
   ]
  },
  {
   "cell_type": "markdown",
   "metadata": {
    "slideshow": {
     "slide_type": "slide"
    }
   },
   "source": [
    "## Recall where we started"
   ]
  },
  {
   "cell_type": "code",
   "execution_count": null,
   "metadata": {
    "collapsed": true,
    "slideshow": {
     "slide_type": "fragment"
    }
   },
   "outputs": [],
   "source": [
    "def db_locs():\n",
    "    ''' Gets a list of locations from the database\n",
    "    '''\n",
    "    cnn = pyodbc.connect(database='prjTEST', server='pmtester-02')\n",
    "    cur = cnn.cursor()\n",
    "    query = \"select locname from locations\"\n",
    "    cur.execute(query)\n",
    "    \n",
    "    results = [row['locname'] for row in cur]\n",
    "    cur.close()\n",
    "    cnn.close()\n",
    "    return results\n",
    "\n",
    "def db_samps():\n",
    "    ''' Gets a list of samples from the database\n",
    "    '''\n",
    "    cnn = pyodbc.connect(database='prjTEST', server='pmtester-02')\n",
    "    cur = cnn.cursor()\n",
    "    query = \"select samplename from samples\"\n",
    "    cur.execute(query)\n",
    "    \n",
    "    samples = [row['samplename'] for row in cur]\n",
    "    cur.close()\n",
    "    cnn.close()\n",
    "    return samples"
   ]
  },
  {
   "cell_type": "markdown",
   "metadata": {
    "slideshow": {
     "slide_type": "slide"
    }
   },
   "source": [
    "## So the code looks nice, but can we trust it?\n",
    "\n",
    "### The main goal of things like DRY, SRP, and KISS is to facilitate QA.\n",
    "\n",
    "### QA comes in few primary ways:\n",
    "\n",
    " * Peer review\n",
    "   * Code is read far more than it is written\n",
    "   * Intent should be communicated through function/variable names\n",
    "   * Code should execute in a very linear fashion, telling a story\n",
    "     where classes/variables are nouns acted upon by verbs \n",
    "     (methods/functions)\n",
    "   * Project-related output should be reproduced by someone else & verified manually\n",
    " * Unit testing\n",
    "   * Small, simple functions are easier to test:\n",
    "   * range of possible inputs and outputs shrinks\n",
    "   * error handling simplifies\n",
    " * Continuous Integration (CI)\n",
    "   * As code evolves CI systems automically run tests\n",
    "   * Test failures trigger an alert\n",
    "   * Code metrics (such as test coverage) can be reported automatically"
   ]
  },
  {
   "cell_type": "markdown",
   "metadata": {
    "slideshow": {
     "slide_type": "slide"
    }
   },
   "source": [
    "## To quote Wes McKinney (author of pandas)\n",
    "\n",
    "> The test suite is where a library hangs its dirty laundry\n",
    "\n",
    "After the initial main code base is reviewed to for the\n",
    "main concepts, it's time to really dig into the test\n",
    "suite."
   ]
  },
  {
   "cell_type": "markdown",
   "metadata": {
    "slideshow": {
     "slide_type": "fragment"
    }
   },
   "source": [
    "## Q: What's a test suite?\n",
    "## A: Test suites collections of special functions and class that confirm that each library function and class behaves as expected. They also guard against small errors propogating into other parts of a code base."
   ]
  },
  {
   "cell_type": "markdown",
   "metadata": {
    "slideshow": {
     "slide_type": "fragment"
    }
   },
   "source": [
    "## Q: But I wrote a bunch of code without a test suite? How are you going to review it?\n",
    "## A1: I'm going to make you write a test suite\n",
    "## A2: You should have written your tests before your wrote your code"
   ]
  },
  {
   "cell_type": "markdown",
   "metadata": {
    "slideshow": {
     "slide_type": "subslide"
    }
   },
   "source": [
    "## Caveat: A test suite is only as good as you make it.\n",
    "\n",
    "### You should strive to really stress your functions and seek out edge and corner cases"
   ]
  },
  {
   "cell_type": "markdown",
   "metadata": {
    "slideshow": {
     "slide_type": "slide"
    }
   },
   "source": [
    "## Test-driven development Example\n",
    "\n",
    "### PM needs a database summarized. Main output should be a table with the following columns:\n",
    "   1. Site Area\n",
    "   2. Pollutant\n",
    "   3. Median concentration, three sig figs with qualifier\n",
    "   4. Maximum concentration, three sig figs with qualifier\n",
    "   "
   ]
  },
  {
   "cell_type": "markdown",
   "metadata": {
    "slideshow": {
     "slide_type": "subslide"
    }
   },
   "source": [
    "   \n",
    "### So we need functions to \n",
    "   1. connect to the database\n",
    "   2. retrieve data from the database\n",
    "   3. format a number of any order of magnitude to 3 sig figs\n",
    "   4. find the maximum result for a given site area and its qualifier\n",
    "   5. find the median results ...\n",
    "   6. combine the formatted result and qualifier into a string\n",
    "   7. write all of the output to a table"
   ]
  },
  {
   "cell_type": "markdown",
   "metadata": {
    "slideshow": {
     "slide_type": "slide"
    }
   },
   "source": [
    "## Formatting by significant figures"
   ]
  },
  {
   "cell_type": "code",
   "execution_count": null,
   "metadata": {
    "collapsed": false,
    "slideshow": {
     "slide_type": "slide"
    }
   },
   "outputs": [],
   "source": [
    "%%load test_sigFigs.py\n",
    "import nose.tools as nt\n",
    "\n",
    "from sigfigs import sigFigs\n",
    "\n",
    "class base_sigFigs(object):\n",
    "    @nt.raises(ValueError)\n",
    "    def test_inf(self):\n",
    "        sigFigs(np.inf)\n",
    "\n",
    "    @nt.raises(ValueError)\n",
    "    def test_NaN(self):\n",
    "        sigFigs(np.nan)\n",
    "\n",
    "    @nt.raises(ValueError)\n",
    "    def test_too_few_sig_figs(self):\n",
    "        sigFigs(1.234, 0)\n",
    "    \n",
    "    def test_7(self):\n",
    "        nt.assert_equal(sigFigs(self.maininput), self.known_7)\n",
    "\n",
    "    def test_3(self):\n",
    "        nt.assert_equal(sigFigs(self.maininput), self.known_3)\n",
    "\n",
    "    def test_3_roundup(self):\n",
    "        nt.assert_equal(sigFigs(self.rndup_input), self.known_roundup)\n",
    "\n",
    "class test_sigFigs_LT1(base_sigFigs):\n",
    "    def setup(self):\n",
    "        self.maininput = 0.1234567\n",
    "        self.rndup_input = 0.1239567\n",
    "        self.known_3 = 0.123\n",
    "        self.known_7 = 0.1230000\n",
    "        self.known_roundup = 0.124\n",
    "\n",
    "class test_sigFigs_GT1(base_sigFigs):\n",
    "    def setup(self):\n",
    "        self.maininput = 1.234567\n",
    "        self.rndup_input = 1.239567\n",
    "        self.known_3 = 1.23\n",
    "        self.known_7 = 1.230000\n",
    "        self.known_roundup = 1.24\n",
    "\n",
    "class test_sigFigs_LargeInt(base_sigFigs):\n",
    "    def setup(self):\n",
    "        self.maininput = 123456789\n",
    "        self.rndup_input = 123956789\n",
    "        self.known_3 = 123000000\n",
    "        self.known_7 = 123456700\n",
    "        self.known_roundup = 124000000\n"
   ]
  },
  {
   "cell_type": "code",
   "execution_count": null,
   "metadata": {
    "collapsed": false,
    "slideshow": {
     "slide_type": "slide"
    }
   },
   "outputs": [],
   "source": [
    "def sigFigs(value, N):\n",
    "    if not np.isfinite(value):\n",
    "        raise ValueError(\"`value` must be a finite number\")\n",
    "\n",
    "    if N < 1:\n",
    "        raise ValueError(\"you need at least 1 sig fig\")\n",
    "        \n",
    "    return round(value, N)\n"
   ]
  },
  {
   "cell_type": "markdown",
   "metadata": {
    "slideshow": {
     "slide_type": "slide"
    }
   },
   "source": [
    "```\n",
    "[wqiodev] C:\\Users\\phobson\\work\\GDAG2015\n",
    "$ nosetests\n",
    "F.F.....F...FFF...\n",
    "======================================================================\n",
    "FAIL: test_sigFigs.test_sigFigs_GT1.test_3\n",
    "----------------------------------------------------------------------\n",
    "Traceback (most recent call last):\n",
    "  File \"C:\\Miniconda3\\envs\\wqiodev\\lib\\site-packages\\nose\\case.py\", line 198, in runTest\n",
    "    self.test(*self.arg)\n",
    "  File \"C:\\Users\\phobson\\work\\GDAG2015\\test_sigFigs.py\", line 23, in test_3\n",
    "    nt.assert_equal(sigFigs(self.maininput, 3), self.known_3)\n",
    "AssertionError: 1.235 != 1.23\n",
    "\n",
    "======================================================================\n",
    "FAIL: test_sigFigs.test_sigFigs_GT1.test_7\n",
    "----------------------------------------------------------------------\n",
    "Traceback (most recent call last):\n",
    "  File \"C:\\Miniconda3\\envs\\wqiodev\\lib\\site-packages\\nose\\case.py\", line 198, in runTest\n",
    "    self.test(*self.arg)\n",
    "  File \"C:\\Users\\phobson\\work\\GDAG2015\\test_sigFigs.py\", line 20, in test_7\n",
    "    nt.assert_equal(sigFigs(self.maininput, 7), self.known_7)\n",
    "AssertionError: 1.234567 != 1.23\n",
    "```\n",
    "\n",
    "### All errors are listed"
   ]
  },
  {
   "cell_type": "code",
   "execution_count": null,
   "metadata": {
    "collapsed": true,
    "slideshow": {
     "slide_type": "slide"
    }
   },
   "outputs": [],
   "source": [
    "import numpy as np\n",
    "def sigFigs(value, N):\n",
    "    if not np.isfinite(value):\n",
    "        raise ValueError(\"`value` must be a finite number\")\n",
    "\n",
    "    if N < 1:\n",
    "        raise ValueError(\"you need at least 1 sig fig\")\n",
    "\n",
    "    order = np.floor(np.log10(np.abs(value)))\n",
    "    decimal_places = int(N - 1 - order)\n",
    "    if decimal_places <= 0:\n",
    "        output = '{0:,.0f}'.format(round(value, decimal_places))\n",
    "\n",
    "    else:\n",
    "        fmt = '{0:,.%df}' % decimal_places\n",
    "        output = fmt.format(value)\n",
    "\n",
    "    return output\n"
   ]
  },
  {
   "cell_type": "markdown",
   "metadata": {
    "slideshow": {
     "slide_type": "slide"
    }
   },
   "source": [
    "```\n",
    "[wqiodev] C:\\Users\\phobson\\work\\GDAG2015\n",
    "$ nosetests --verbose\n",
    "test_sigFigs.test_sigFigs_GT1.test_3 ... ok\n",
    "test_sigFigs.test_sigFigs_GT1.test_3_roundup ... ok\n",
    "test_sigFigs.test_sigFigs_GT1.test_7 ... ok\n",
    "test_sigFigs.test_sigFigs_GT1.test_NaN ... ok\n",
    "test_sigFigs.test_sigFigs_GT1.test_inf ... ok\n",
    "test_sigFigs.test_sigFigs_GT1.test_too_few_sig_figs ... ok\n",
    "test_sigFigs.test_sigFigs_LT1.test_3 ... ok\n",
    "test_sigFigs.test_sigFigs_LT1.test_3_roundup ... ok\n",
    "test_sigFigs.test_sigFigs_LT1.test_7 ... ok\n",
    "test_sigFigs.test_sigFigs_LT1.test_NaN ... ok\n",
    "test_sigFigs.test_sigFigs_LT1.test_inf ... ok\n",
    "test_sigFigs.test_sigFigs_LT1.test_too_few_sig_figs ... ok\n",
    "test_sigFigs.test_sigFigs_LargeInt.test_3 ... ok\n",
    "test_sigFigs.test_sigFigs_LargeInt.test_3_roundup ... ok\n",
    "test_sigFigs.test_sigFigs_LargeInt.test_7 ... ok\n",
    "test_sigFigs.test_sigFigs_LargeInt.test_NaN ... ok\n",
    "test_sigFigs.test_sigFigs_LargeInt.test_inf ... ok\n",
    "test_sigFigs.test_sigFigs_LargeInt.test_too_few_sig_figs ... ok\n",
    "\n",
    "----------------------------------------------------------------------\n",
    "Ran 18 tests in 0.105s\n",
    "\n",
    "```"
   ]
  },
  {
   "cell_type": "markdown",
   "metadata": {
    "slideshow": {
     "slide_type": "slide"
    }
   },
   "source": [
    "# Audience participation\n",
    "## What did we miss in our testing?\n",
    "```python\n",
    "class base_sigFigs(object):\n",
    "    @nt.raises(ValueError)\n",
    "    def test_inf(self):\n",
    "        sigFigs(np.inf, 3)\n",
    "\n",
    "    @nt.raises(ValueError)\n",
    "    def test_NaN(self):\n",
    "        sigFigs(np.nan, 3)\n",
    "\n",
    "    @nt.raises(ValueError)\n",
    "    def test_too_few_sig_figs(self):\n",
    "        sigFigs(1.234, 0)\n",
    "\n",
    "    def test_7(self):\n",
    "        nt.assert_equal(sigFigs(self.maininput, 7), self.known_7)\n",
    "\n",
    "    def test_3(self):\n",
    "        nt.assert_equal(sigFigs(self.maininput, 3), self.known_3)\n",
    "\n",
    "    def test_3_roundup(self):\n",
    "        nt.assert_equal(sigFigs(self.rndup_input, 3), self.known_roundup)\n",
    "```"
   ]
  },
  {
   "cell_type": "markdown",
   "metadata": {
    "slideshow": {
     "slide_type": "slide"
    }
   },
   "source": [
    "```python\n",
    "class test_sigFigs_LT1(base_sigFigs):\n",
    "    def setup(self):\n",
    "        self.maininput = 0.1234567\n",
    "        self.rndup_input = 0.1239567\n",
    "        self.known_3 = '0.123'\n",
    "        self.known_7 = '0.1234567'\n",
    "        self.known_roundup = '0.124'\n",
    "\n",
    "class test_sigFigs_GT1(base_sigFigs):\n",
    "    def setup(self):\n",
    "        self.maininput = 1.234567\n",
    "        self.rndup_input = 1.239567\n",
    "        self.known_3 = '1.23'\n",
    "        self.known_7 = '1.234567'\n",
    "        self.known_roundup = '1.24'\n",
    "\n",
    "class test_sigFigs_LargeInt(base_sigFigs):\n",
    "    def setup(self):\n",
    "        self.maininput = 123456722\n",
    "        self.rndup_input = 123956789\n",
    "        self.known_3 = '123,000,000'\n",
    "        self.known_7 = '123,456,700'\n",
    "        self.known_roundup = '124,000,000'\n",
    "```"
   ]
  },
  {
   "cell_type": "markdown",
   "metadata": {
    "slideshow": {
     "slide_type": "slide"
    }
   },
   "source": [
    "# Some things we might want to test for:\n",
    " * Feeding strings for `value`\n",
    " * negative numbers\n",
    " * behavior with `np.nan` vs. `None`"
   ]
  },
  {
   "cell_type": "markdown",
   "metadata": {},
   "source": [
    "# Documentation\n",
    "\n",
    "## The numpy community has created a standard format for documentation\n",
    "\n",
    "```python\n",
    "import numpy as np\n",
    "\n",
    "def sigFigs(value, N):\n",
    "    \"\"\"Formats a number to the specified signficant figures\n",
    "    \n",
    "    Parameters\n",
    "    ----------\n",
    "    values : int or float\n",
    "        The numeric value to be formatted\n",
    "    N : int\n",
    "        The final number of signficant figures in the output\n",
    "        \n",
    "    Returns\n",
    "    ------\n",
    "    rounded : str\n",
    "        The formmatted number\n",
    "        \n",
    "    Examples\n",
    "    --------\n",
    "    >>> sigFigs(1.24, 4)\n",
    "        \"1.240\"\n",
    "\n",
    "    \"\"\"\n",
    "\n",
    "    if not np.isfinite(value):\n",
    "        raise ValueError(\"`value` must be a finite number\")\n",
    "\n",
    "    if N < 1:\n",
    "        raise ValueError(\"you need at least 1 sig fig\")\n",
    "\n",
    "    order = np.floor(np.log10(np.abs(value)))\n",
    "    decimal_places = int(N - 1 - order)\n",
    "    if decimal_places <= 0:\n",
    "        rounded = '{0:,.0f}'.format(round(value, decimal_places))\n",
    "\n",
    "    else:\n",
    "        fmt = '{0:,.%df}' % decimal_places\n",
    "        rounded = fmt.format(value)\n",
    "\n",
    "    return output\n",
    "```"
   ]
  },
  {
   "cell_type": "markdown",
   "metadata": {
    "slideshow": {
     "slide_type": "slide"
    }
   },
   "source": [
    "## Functions as classes docmented this way can be automatically compiled into the HTML and PDF documents"
   ]
  },
  {
   "cell_type": "code",
   "execution_count": 5,
   "metadata": {
    "collapsed": false,
    "slideshow": {
     "slide_type": "fragment"
    }
   },
   "outputs": [
    {
     "data": {
      "text/html": [
       "\n",
       "        <iframe\n",
       "            width=\"700\"\n",
       "            height=\"400\"\n",
       "            src=\"http://web.stanford.edu/~mwaskom/software/seaborn/generated/seaborn.boxplot.html#seaborn.boxplot\"\n",
       "            frameborder=\"0\"\n",
       "            allowfullscreen\n",
       "        ></iframe>\n",
       "        "
      ],
      "text/plain": [
       "<IPython.lib.display.IFrame at 0x4783160>"
      ]
     },
     "execution_count": 5,
     "metadata": {},
     "output_type": "execute_result"
    }
   ],
   "source": [
    "IFrame(\"http://web.stanford.edu/~mwaskom/software/seaborn/generated/seaborn.boxplot.html#seaborn.boxplot\", 700, 400)"
   ]
  },
  {
   "cell_type": "markdown",
   "metadata": {
    "slideshow": {
     "slide_type": "slide"
    }
   },
   "source": [
    "# Inline comments should explain the code, not repeat it:"
   ]
  },
  {
   "cell_type": "markdown",
   "metadata": {
    "slideshow": {
     "slide_type": "fragment"
    }
   },
   "source": [
    "# Exaggerated examples\n",
    "## Bad\n",
    "```python\n",
    "def sigFigs(value, N):\n",
    "    if not np.isfinite(value):\n",
    "        raise ValueError(\"`value` must be a finite number\")\n",
    "\n",
    "    if N < 1:\n",
    "        raise ValueError(\"you need at least 1 sig fig\")\n",
    "\n",
    "    # get the floor of the log10 of the absolute value of `value`\n",
    "    order = np.floor(np.log10(np.abs(value)))\n",
    "```"
   ]
  },
  {
   "cell_type": "markdown",
   "metadata": {
    "slideshow": {
     "slide_type": "subslide"
    }
   },
   "source": [
    "## Good\n",
    "```python\n",
    "def sigFigs(value, N):\n",
    "    if not np.isfinite(value):\n",
    "        raise ValueError(\"`value` must be a finite number\")\n",
    "\n",
    "    if N < 1:\n",
    "        raise ValueError(\"you need at least 1 sig fig\")\n",
    "\n",
    "    # The order of magnitude of the value. We'll divide the \n",
    "    # value by this to get a number of order 1, round it,\n",
    "    # and then multiply back in to the orig order\n",
    "    order = np.floor(np.log10(np.abs(value)))\n",
    "```"
   ]
  },
  {
   "cell_type": "markdown",
   "metadata": {
    "slideshow": {
     "slide_type": "slide"
    }
   },
   "source": [
    "# Lastly, fire up an interpreter and just try to break it\n",
    "\n",
    "## e.g., `sigFigs(value1.25e12, 1000000)`"
   ]
  },
  {
   "cell_type": "markdown",
   "metadata": {
    "slideshow": {
     "slide_type": "subslide"
    }
   },
   "source": [
    "# Questions and Discussion and War Stories"
   ]
  }
 ],
 "metadata": {
  "celltoolbar": "Slideshow",
  "kernelspec": {
   "display_name": "Python 3",
   "language": "python",
   "name": "python3"
  },
  "language_info": {
   "codemirror_mode": {
    "name": "ipython",
    "version": 3
   },
   "file_extension": ".py",
   "mimetype": "text/x-python",
   "name": "python",
   "nbconvert_exporter": "python",
   "pygments_lexer": "ipython3",
   "version": "3.4.3"
  }
 },
 "nbformat": 4,
 "nbformat_minor": 0
}
