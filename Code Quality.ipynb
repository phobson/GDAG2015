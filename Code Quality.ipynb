{
 "cells": [
  {
   "cell_type": "markdown",
   "metadata": {
    "slideshow": {
     "slide_type": "slide"
    }
   },
   "source": [
    "# Code Quality Assurance Practices"
   ]
  },
  {
   "cell_type": "markdown",
   "metadata": {
    "slideshow": {
     "slide_type": "slide"
    }
   },
   "source": [
    "## Summary\n",
    " * How do you define quality code\n",
    " * What are the common QA practices?\n",
    " * How do you conduct a peer review?\n",
    " * What kinds of tools can we use?\n",
    " * Common pitfalls"
   ]
  },
  {
   "cell_type": "markdown",
   "metadata": {
    "slideshow": {
     "slide_type": "slide"
    }
   },
   "source": [
    "## How do you define quality code?\n",
    "### Basic Tenets:\n",
    " * DRY: Don't Repeat Yourself\n",
    " * KISS: Keep it Simple, Stupid!\n",
    " * Don't reinvent the wheel\n",
    "   * But don't blindly trust other wheels!\n",
    " * Be clear:\n",
    "   * function names should mean something\n",
    "   * variable names should me something\n",
    "   * lines shouldn't be too long\n",
    "   * functions should have descriptions\n",
    " * Results: Does the code produced expected results from known input?\n",
    " * Error handling: are edge and corner cases properly handled?"
   ]
  },
  {
   "cell_type": "markdown",
   "metadata": {
    "slideshow": {
     "slide_type": "slide"
    }
   },
   "source": [
    "### Don't Repeat Yourself"
   ]
  },
  {
   "cell_type": "code",
   "execution_count": 1,
   "metadata": {
    "collapsed": true,
    "slideshow": {
     "slide_type": "subslide"
    }
   },
   "outputs": [],
   "source": [
    "def getLocations(location_type):\n",
    "    ''' Gets a list of locations from the database\n",
    "    '''\n",
    "    cnn = pyodbc.connect(database='prjSSFL', server='pmprojects-02')\n",
    "    cur = cnn.cursor()\n",
    "    query = \"select locname from locations\"\n",
    "    cur.execute(query)\n",
    "    \n",
    "    results = [row['locname'] for row in cur]\n",
    "    cur.close()\n",
    "    cnn.close()\n",
    "    return results\n",
    "\n",
    "def getSamples(sample_type):\n",
    "    ''' Gets a list of samples from the database\n",
    "    '''\n",
    "    cnn = pyodbc.connect(database='prjSSFL', server='pmprojects-02')\n",
    "    cur = cnn.cursor()\n",
    "    query = \"select samplename from samples\"\n",
    "    cur.execute(query)\n",
    "    \n",
    "    samples = [row['samplename'] for row in cur]\n",
    "    cur.close()\n",
    "    cnn.close()\n",
    "    return samples"
   ]
  },
  {
   "cell_type": "markdown",
   "metadata": {
    "slideshow": {
     "slide_type": "slide"
    }
   },
   "source": [
    "### Compare to..."
   ]
  },
  {
   "cell_type": "code",
   "execution_count": null,
   "metadata": {
    "collapsed": true,
    "slideshow": {
     "slide_type": "subslide"
    }
   },
   "outputs": [],
   "source": [
    "def connectToDB(cmd=None):\n",
    "    cnn = pyodbc.connect(database='prjSSFL', server='pmprojects-02')\n",
    "    cur = cnn.cursor()\n",
    "    if cmd is not None:\n",
    "        cur.execute(cmd)\n",
    "        \n",
    "    return cnn, cur\n",
    "\n",
    "def closeConnections(cnn, cur):\n",
    "    cur.close()\n",
    "    cnn.close()\n",
    "    \n",
    "def getLocations(location_type):\n",
    "    query = \"select locname from locations\"\n",
    "    cnn, cur = connectToDB(cmd=query)\n",
    "    results = [row['locname'] for row in cur]\n",
    "    closeConnections(cnn, cur)\n",
    "    return results\n",
    "    \n",
    "def getSamples():\n",
    "    query = \"select samplename from samples\"\n",
    "    cnn, cur = connectToDB(cmd=query)\n",
    "    samples = [row['samplename'] for row in cur]\n",
    "    closeConnections(cnn, cur)\n",
    "    return samples\n",
    "    "
   ]
  },
  {
   "cell_type": "markdown",
   "metadata": {
    "slideshow": {
     "slide_type": "slide"
    }
   },
   "source": [
    "### And further still..."
   ]
  },
  {
   "cell_type": "code",
   "execution_count": null,
   "metadata": {
    "collapsed": true,
    "slideshow": {
     "slide_type": "fragment"
    }
   },
   "outputs": [],
   "source": [
    "def connectToDB(cmd=None):\n",
    "    cnn = pyodbc.connect(database='prjSSFL', server='pmprojects-02')\n",
    "    cur = cnn.cursor()\n",
    "    if cmd is not None:\n",
    "        cur.execute(cmd)\n",
    "    return cnn, cur\n",
    "\n",
    "def closeConnections(cnn, cur):\n",
    "    cur.close()\n",
    "    cnn.close()\n",
    "\n",
    "def _get_single_column_from_table(column, table):\n",
    "    query = \"select {} from {}\".format(column, table)\n",
    "    cnn, cur = connectToDB(cmd=query)\n",
    "    values = [row[column] for row in cur]\n",
    "    closeConnections(cnn, cur)\n",
    "    return values\n",
    "\n",
    "def getLocations():\n",
    "    return _get_single_column_from_table('locname', 'locations')\n",
    "\n",
    "def getSamples():\n",
    "    return _get_single_column_from_table('samplename', 'samples')"
   ]
  }
 ],
 "metadata": {
  "celltoolbar": "Slideshow",
  "kernelspec": {
   "display_name": "Python 3",
   "language": "python",
   "name": "python3"
  },
  "language_info": {
   "codemirror_mode": {
    "name": "ipython",
    "version": 3
   },
   "file_extension": ".py",
   "mimetype": "text/x-python",
   "name": "python",
   "nbconvert_exporter": "python",
   "pygments_lexer": "ipython3",
   "version": "3.4.3"
  }
 },
 "nbformat": 4,
 "nbformat_minor": 0
}
