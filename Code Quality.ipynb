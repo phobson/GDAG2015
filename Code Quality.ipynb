{
 "cells": [
  {
   "cell_type": "code",
   "execution_count": 1,
   "metadata": {
    "collapsed": false,
    "slideshow": {
     "slide_type": "skip"
    }
   },
   "outputs": [],
   "source": [
    "%matplotlib inline\n",
    "import numpy as np\n",
    "import matplotlib.pyplot as plt\n",
    "import pandas\n",
    "import pyodbc"
   ]
  },
  {
   "cell_type": "markdown",
   "metadata": {
    "slideshow": {
     "slide_type": "slide"
    }
   },
   "source": [
    "# Code Quality Assurance Practices"
   ]
  },
  {
   "cell_type": "markdown",
   "metadata": {
    "slideshow": {
     "slide_type": "slide"
    }
   },
   "source": [
    "## Summary\n",
    " * How do you define quality code\n",
    " * What are the common QA practices?\n",
    " * How do you conduct a peer review?\n",
    " * What kinds of tools can we use?\n",
    " * Common pitfalls"
   ]
  },
  {
   "cell_type": "markdown",
   "metadata": {
    "slideshow": {
     "slide_type": "slide"
    }
   },
   "source": [
    "## How do you define quality code?\n",
    "### Basic Tenets:\n",
    " * DRY: Don't Repeat Yourself\n",
    " * KISS: Keep it Simple, Stupid!\n",
    " * SRP: Single Responsibility Principle\n",
    " * Don't reinvent the wheel\n",
    "   * But don't blindly trust other wheels!\n",
    " * Be clear:\n",
    "   * function names should mean something\n",
    "   * variable names should me something\n",
    "   * lines shouldn't be too long\n",
    "   * functions should have descriptions if sufficiently complex\n",
    " * Results: Does the code produced expected results from known input?\n",
    " * Error handling: are edge and corner cases properly handled?"
   ]
  },
  {
   "cell_type": "markdown",
   "metadata": {
    "slideshow": {
     "slide_type": "slide"
    }
   },
   "source": [
    "## Work through a basic example: retrieving values from a database \n",
    "(`import pyodbc` is implied)"
   ]
  },
  {
   "cell_type": "code",
   "execution_count": 2,
   "metadata": {
    "collapsed": true,
    "slideshow": {
     "slide_type": "subslide"
    }
   },
   "outputs": [],
   "source": [
    "def db_locs():\n",
    "    ''' Gets a list of locations from the database\n",
    "    '''\n",
    "    cnn = pyodbc.connect(database='prjTEST', server='pmtester-02')\n",
    "    cur = cnn.cursor()\n",
    "    query = \"select locname from locations\"\n",
    "    cur.execute(query)\n",
    "    \n",
    "    results = [row['locname'] for row in cur]\n",
    "    cur.close()\n",
    "    cnn.close()\n",
    "    return results"
   ]
  },
  {
   "cell_type": "code",
   "execution_count": 3,
   "metadata": {
    "collapsed": true,
    "slideshow": {
     "slide_type": "subslide"
    }
   },
   "outputs": [],
   "source": [
    "def db_samps():\n",
    "    ''' Gets a list of samples from the database\n",
    "    '''\n",
    "    cnn = pyodbc.connect(database='prjTEST', server='pmtester-02')\n",
    "    cur = cnn.cursor()\n",
    "    query = \"select samplename from samples\"\n",
    "    cur.execute(query)\n",
    "    \n",
    "    samples = [row['samplename'] for row in cur]\n",
    "    cur.close()\n",
    "    cnn.close()\n",
    "    return samples"
   ]
  },
  {
   "cell_type": "markdown",
   "metadata": {
    "slideshow": {
     "slide_type": "slide"
    }
   },
   "source": [
    "### What do the names mean? Are we getting or inserting?\n",
    "### Apply some DRY and clear up names"
   ]
  },
  {
   "cell_type": "code",
   "execution_count": 4,
   "metadata": {
    "collapsed": true,
    "slideshow": {
     "slide_type": "subslide"
    }
   },
   "outputs": [],
   "source": [
    "def connectToDB(cmd=None):\n",
    "    cnn = pyodbc.connect(db='prjTEST', server='pmtester-02')\n",
    "    cur = cnn.cursor()\n",
    "    if cmd is not None:\n",
    "        cur.execute(cmd)\n",
    "        \n",
    "    return cnn, cur\n",
    "\n",
    "def closeConnections(cnn, cur):\n",
    "    cur.close()\n",
    "    cnn.close()\n",
    "    \n",
    "def getLocations():\n",
    "    query = \"select locname from locations\"\n",
    "    cnn, cur = connectToDB(cmd=query)\n",
    "    results = [row['locname'] for row in cur]\n",
    "    closeConnections(cnn, cur)\n",
    "    return results\n",
    "    \n",
    "def getSamples():\n",
    "    query = \"select samplename from samples\"\n",
    "    cnn, cur = connectToDB(cmd=query)\n",
    "    samples = [row['samplename'] for row in cur]\n",
    "    closeConnections(cnn, cur)\n",
    "    return samples\n",
    "    "
   ]
  },
  {
   "cell_type": "markdown",
   "metadata": {
    "slideshow": {
     "slide_type": "slide"
    }
   },
   "source": [
    "### And more DRY still..."
   ]
  },
  {
   "cell_type": "code",
   "execution_count": 5,
   "metadata": {
    "collapsed": true,
    "slideshow": {
     "slide_type": "subslide"
    }
   },
   "outputs": [],
   "source": [
    "def connectToDB(cmd=None):\n",
    "    cnn = pyodbc.connect(db='prjTEST', server='pmtester-02')\n",
    "    cur = cnn.cursor()\n",
    "    if cmd is not None:\n",
    "        cur.execute(cmd)\n",
    "    return cnn, cur\n",
    "\n",
    "def closeConnections(cnn, cur):\n",
    "    cur.close()\n",
    "    cnn.close()\n",
    "\n",
    "def _get_single_col_from_table(column, table):\n",
    "    query = \"select {} from {}\".format(column, table)\n",
    "    cnn, cur = connectToDB(cmd=query)\n",
    "    values = [row[column] for row in cur]\n",
    "    closeConnections(cnn, cur)\n",
    "    return values\n",
    "\n",
    "def getLocations():\n",
    "    return _get_single_col_from_table('locname', 'locations')\n",
    "\n",
    "def getSamples():\n",
    "    return _get_single_col_from_table('samplename', 'samples')"
   ]
  },
  {
   "cell_type": "markdown",
   "metadata": {
    "slideshow": {
     "slide_type": "slide"
    }
   },
   "source": [
    "## Now use previously invented wheels"
   ]
  },
  {
   "cell_type": "code",
   "execution_count": 6,
   "metadata": {
    "collapsed": false,
    "slideshow": {
     "slide_type": "fragment"
    }
   },
   "outputs": [],
   "source": [
    "import pyodbc\n",
    "import pandas\n",
    "\n",
    "def connectToDB():\n",
    "    return pyodbc.connect(db='prjTEST', server='pmtester-02')\n",
    "\n",
    "def _get_single_col_from_table(column, table):\n",
    "    query = \"select {} from {}\".format(column, table)\n",
    "    with connectToDB() as cnn:\n",
    "        values = pandas.read_sql(query, cnn)    \n",
    "    return values[column].tolist()\n",
    "\n",
    "def getLocations():\n",
    "    return _get_single_col_from_table('locname', 'locations')\n",
    "\n",
    "def getSamples():\n",
    "    return _get_single_col_from_table('samplename', 'samples')"
   ]
  },
  {
   "cell_type": "markdown",
   "metadata": {
    "slideshow": {
     "slide_type": "slide"
    }
   },
   "source": [
    "## Recall where we started"
   ]
  },
  {
   "cell_type": "code",
   "execution_count": 7,
   "metadata": {
    "collapsed": true,
    "slideshow": {
     "slide_type": "fragment"
    }
   },
   "outputs": [],
   "source": [
    "def db_locs():\n",
    "    ''' Gets a list of locations from the database\n",
    "    '''\n",
    "    cnn = pyodbc.connect(database='prjTEST', server='pmtester-02')\n",
    "    cur = cnn.cursor()\n",
    "    query = \"select locname from locations\"\n",
    "    cur.execute(query)\n",
    "    \n",
    "    results = [row['locname'] for row in cur]\n",
    "    cur.close()\n",
    "    cnn.close()\n",
    "    return results\n",
    "\n",
    "def db_samps():\n",
    "    ''' Gets a list of samples from the database\n",
    "    '''\n",
    "    cnn = pyodbc.connect(database='prjTEST', server='pmtester-02')\n",
    "    cur = cnn.cursor()\n",
    "    query = \"select samplename from samples\"\n",
    "    cur.execute(query)\n",
    "    \n",
    "    samples = [row['samplename'] for row in cur]\n",
    "    cur.close()\n",
    "    cnn.close()\n",
    "    return samples"
   ]
  },
  {
   "cell_type": "markdown",
   "metadata": {
    "slideshow": {
     "slide_type": "slide"
    }
   },
   "source": [
    "## So the code looks nice, but can we trust it?\n",
    "\n",
    "### The main goal of things like DRY, SRP, and KISS is to facilitate QA.\n",
    "\n",
    "### QA comes in few primary things:\n",
    " * Peer review\n",
    "   * Code is read far more than it is written\n",
    "   * Intent should be communicated through function/variable names\n",
    "   * Code should execute in a very linear fashion, telling a story\n",
    "     where classes/variables are nouns acted upon by verbs \n",
    "     (methods/functions)\n",
    " * Unit testing\n",
    "   * Small, simple functions are easier to test:\n",
    "   * range of possible inputs and outputs shrinks\n",
    "   * error handling simplifies\n",
    " * Continuous Integration (CI)\n",
    "   * As code evolves CI systems automically run tests\n",
    "   * Test failures trigger an alert\n",
    "   * Code metrics (such as test coverage) can be reported automatically"
   ]
  },
  {
   "cell_type": "markdown",
   "metadata": {
    "slideshow": {
     "slide_type": "slide"
    }
   },
   "source": [
    "## To quote Wes McKinney (author of pandas)\n",
    "\n",
    "> The test suite is where a library hangs its dirty laundry\n",
    "\n",
    "After the initial main code base is reviewed to for the\n",
    "main concepts, it's time to really dig into the test\n",
    "suite."
   ]
  },
  {
   "cell_type": "markdown",
   "metadata": {
    "slideshow": {
     "slide_type": "fragment"
    }
   },
   "source": [
    "## Q: What's a test suite?\n",
    "## A: Test suites collections of special functions and class that confirm that each library function and class behaves as expected. They also guard against small errors propogating into other parts of a code base."
   ]
  },
  {
   "cell_type": "markdown",
   "metadata": {
    "slideshow": {
     "slide_type": "fragment"
    }
   },
   "source": [
    "## Q: But I wrote a bunch of code without a test suite? How are you going to review it?\n",
    "## A1: I'm going to make you write a test suite\n",
    "## A2: You should have written your tests before your wrote your code"
   ]
  },
  {
   "cell_type": "markdown",
   "metadata": {
    "slideshow": {
     "slide_type": "subslide"
    }
   },
   "source": [
    "## Caveat: A test suite is only as good as you make it.\n",
    "\n",
    "### You should strive to really stress your functions and seek out edge and corner cases"
   ]
  },
  {
   "cell_type": "markdown",
   "metadata": {
    "slideshow": {
     "slide_type": "slide"
    }
   },
   "source": [
    "## Test-driven development Example\n",
    "\n",
    "### PM needs a database summarized. Main output should be a table with the following columns:\n",
    "   1. Site Area\n",
    "   2. Pollutant\n",
    "   3. Median concentration, three sig figs with qualifier\n",
    "   4. Maximum concentration, three sig figs with qualifier\n",
    "   "
   ]
  },
  {
   "cell_type": "markdown",
   "metadata": {
    "slideshow": {
     "slide_type": "subslide"
    }
   },
   "source": [
    "   \n",
    "### So we need functions to \n",
    "   1. connect to the database\n",
    "   2. retrieve data from the database\n",
    "   3. format a number of any order of magnitude to 3 sig figs\n",
    "   4. find the maximum result for a given site area and its qualifier\n",
    "   5. find the median results ...\n",
    "   6. combine the formatted result and qualifier into a string\n",
    "   7. write all of the output to a table"
   ]
  },
  {
   "cell_type": "markdown",
   "metadata": {
    "slideshow": {
     "slide_type": "slide"
    }
   },
   "source": [
    "## Formatting by significant figures"
   ]
  },
  {
   "cell_type": "code",
   "execution_count": null,
   "metadata": {
    "collapsed": true
   },
   "outputs": [],
   "source": []
  }
 ],
 "metadata": {
  "celltoolbar": "Slideshow",
  "kernelspec": {
   "display_name": "Python 3",
   "language": "python",
   "name": "python3"
  },
  "language_info": {
   "codemirror_mode": {
    "name": "ipython",
    "version": 3
   },
   "file_extension": ".py",
   "mimetype": "text/x-python",
   "name": "python",
   "nbconvert_exporter": "python",
   "pygments_lexer": "ipython3",
   "version": "3.4.3"
  }
 },
 "nbformat": 4,
 "nbformat_minor": 0
}
